{
 "cells": [
  {
   "cell_type": "code",
   "execution_count": 1,
   "id": "460bf224",
   "metadata": {},
   "outputs": [
    {
     "name": "stdout",
     "output_type": "stream",
     "text": [
      "Requirement already satisfied: statsmodels in c:\\users\\nickmolliconi\\lib\\site-packages (0.13.2)\n",
      "Requirement already satisfied: numpy>=1.17 in c:\\users\\nickmolliconi\\lib\\site-packages (from statsmodels) (1.21.5)\n",
      "Requirement already satisfied: scipy>=1.3 in c:\\users\\nickmolliconi\\lib\\site-packages (from statsmodels) (1.8.1)\n",
      "Requirement already satisfied: pandas>=0.25 in c:\\users\\nickmolliconi\\lib\\site-packages (from statsmodels) (1.4.2)\n",
      "Requirement already satisfied: patsy>=0.5.2 in c:\\users\\nickmolliconi\\lib\\site-packages (from statsmodels) (0.5.2)\n",
      "Requirement already satisfied: packaging>=21.3 in c:\\users\\nickmolliconi\\lib\\site-packages (from statsmodels) (21.3)\n",
      "Requirement already satisfied: pyparsing!=3.0.5,>=2.0.2 in c:\\users\\nickmolliconi\\lib\\site-packages (from packaging>=21.3->statsmodels) (3.0.4)\n",
      "Requirement already satisfied: pytz>=2020.1 in c:\\users\\nickmolliconi\\lib\\site-packages (from pandas>=0.25->statsmodels) (2021.3)\n",
      "Requirement already satisfied: python-dateutil>=2.8.1 in c:\\users\\nickmolliconi\\lib\\site-packages (from pandas>=0.25->statsmodels) (2.8.2)\n",
      "Requirement already satisfied: six in c:\\users\\nickmolliconi\\lib\\site-packages (from patsy>=0.5.2->statsmodels) (1.16.0)\n",
      "Note: you may need to restart the kernel to use updated packages.\n"
     ]
    }
   ],
   "source": [
    "pip install statsmodels"
   ]
  },
  {
   "cell_type": "code",
   "execution_count": 2,
   "id": "03c162e0",
   "metadata": {},
   "outputs": [
    {
     "name": "stdout",
     "output_type": "stream",
     "text": [
      "Requirement already satisfied: wordcloud in c:\\users\\nickmolliconi\\lib\\site-packages (1.8.1)\n",
      "Requirement already satisfied: matplotlib in c:\\users\\nickmolliconi\\lib\\site-packages (from wordcloud) (3.5.2)\n",
      "Requirement already satisfied: numpy>=1.6.1 in c:\\users\\nickmolliconi\\lib\\site-packages (from wordcloud) (1.21.5)\n",
      "Requirement already satisfied: pillow in c:\\users\\nickmolliconi\\lib\\site-packages (from wordcloud) (9.0.1)\n",
      "Requirement already satisfied: kiwisolver>=1.0.1 in c:\\users\\nickmolliconi\\lib\\site-packages (from matplotlib->wordcloud) (1.4.2)\n",
      "Requirement already satisfied: python-dateutil>=2.7 in c:\\users\\nickmolliconi\\lib\\site-packages (from matplotlib->wordcloud) (2.8.2)\n",
      "Requirement already satisfied: fonttools>=4.22.0 in c:\\users\\nickmolliconi\\lib\\site-packages (from matplotlib->wordcloud) (4.25.0)\n",
      "Requirement already satisfied: cycler>=0.10 in c:\\users\\nickmolliconi\\lib\\site-packages (from matplotlib->wordcloud) (0.11.0)\n",
      "Requirement already satisfied: packaging>=20.0 in c:\\users\\nickmolliconi\\lib\\site-packages (from matplotlib->wordcloud) (21.3)\n",
      "Requirement already satisfied: pyparsing>=2.2.1 in c:\\users\\nickmolliconi\\lib\\site-packages (from matplotlib->wordcloud) (3.0.4)\n",
      "Requirement already satisfied: six>=1.5 in c:\\users\\nickmolliconi\\lib\\site-packages (from python-dateutil>=2.7->matplotlib->wordcloud) (1.16.0)\n",
      "Note: you may need to restart the kernel to use updated packages.\n"
     ]
    }
   ],
   "source": [
    "pip install wordcloud"
   ]
  },
  {
   "cell_type": "code",
   "execution_count": 3,
   "id": "8332c944",
   "metadata": {},
   "outputs": [
    {
     "name": "stdout",
     "output_type": "stream",
     "text": [
      "Requirement already satisfied: textblob in c:\\users\\nickmolliconi\\lib\\site-packages (0.15.3)\n",
      "Requirement already satisfied: nltk>=3.1 in c:\\users\\nickmolliconi\\lib\\site-packages (from textblob) (3.7)\n",
      "Requirement already satisfied: regex>=2021.8.3 in c:\\users\\nickmolliconi\\lib\\site-packages (from nltk>=3.1->textblob) (2022.3.15)\n",
      "Requirement already satisfied: click in c:\\users\\nickmolliconi\\lib\\site-packages (from nltk>=3.1->textblob) (8.0.4)\n",
      "Requirement already satisfied: joblib in c:\\users\\nickmolliconi\\lib\\site-packages (from nltk>=3.1->textblob) (1.1.0)\n",
      "Requirement already satisfied: tqdm in c:\\users\\nickmolliconi\\lib\\site-packages (from nltk>=3.1->textblob) (4.64.0)\n",
      "Requirement already satisfied: colorama in c:\\users\\nickmolliconi\\lib\\site-packages (from click->nltk>=3.1->textblob) (0.4.4)\n",
      "Note: you may need to restart the kernel to use updated packages.\n"
     ]
    }
   ],
   "source": [
    "pip install textblob"
   ]
  },
  {
   "cell_type": "code",
   "execution_count": 4,
   "id": "f5063096",
   "metadata": {},
   "outputs": [
    {
     "name": "stdout",
     "output_type": "stream",
     "text": [
      "Requirement already satisfied: bioinfokit in c:\\users\\nickmolliconi\\lib\\site-packages (2.1.0)\n",
      "Requirement already satisfied: matplotlib in c:\\users\\nickmolliconi\\lib\\site-packages (from bioinfokit) (3.5.2)\n",
      "Requirement already satisfied: scikit-learn in c:\\users\\nickmolliconi\\lib\\site-packages (from bioinfokit) (1.0.2)\n",
      "Requirement already satisfied: tabulate in c:\\users\\nickmolliconi\\lib\\site-packages (from bioinfokit) (0.8.9)\n",
      "Requirement already satisfied: numpy in c:\\users\\nickmolliconi\\lib\\site-packages (from bioinfokit) (1.21.5)\n",
      "Requirement already satisfied: matplotlib-venn in c:\\users\\nickmolliconi\\lib\\site-packages (from bioinfokit) (0.11.7)\n",
      "Requirement already satisfied: textwrap3 in c:\\users\\nickmolliconi\\lib\\site-packages (from bioinfokit) (0.9.2)\n",
      "Requirement already satisfied: scipy in c:\\users\\nickmolliconi\\lib\\site-packages (from bioinfokit) (1.8.1)\n",
      "Requirement already satisfied: adjustText in c:\\users\\nickmolliconi\\lib\\site-packages (from bioinfokit) (0.8)\n",
      "Requirement already satisfied: pandas in c:\\users\\nickmolliconi\\lib\\site-packages (from bioinfokit) (1.4.2)\n",
      "Requirement already satisfied: seaborn in c:\\users\\nickmolliconi\\lib\\site-packages (from bioinfokit) (0.11.2)\n",
      "Requirement already satisfied: statsmodels in c:\\users\\nickmolliconi\\lib\\site-packages (from bioinfokit) (0.13.2)\n",
      "Requirement already satisfied: fonttools>=4.22.0 in c:\\users\\nickmolliconi\\lib\\site-packages (from matplotlib->bioinfokit) (4.25.0)\n",
      "Requirement already satisfied: python-dateutil>=2.7 in c:\\users\\nickmolliconi\\lib\\site-packages (from matplotlib->bioinfokit) (2.8.2)\n",
      "Requirement already satisfied: packaging>=20.0 in c:\\users\\nickmolliconi\\lib\\site-packages (from matplotlib->bioinfokit) (21.3)\n",
      "Requirement already satisfied: pyparsing>=2.2.1 in c:\\users\\nickmolliconi\\lib\\site-packages (from matplotlib->bioinfokit) (3.0.4)\n",
      "Requirement already satisfied: cycler>=0.10 in c:\\users\\nickmolliconi\\lib\\site-packages (from matplotlib->bioinfokit) (0.11.0)\n",
      "Requirement already satisfied: kiwisolver>=1.0.1 in c:\\users\\nickmolliconi\\lib\\site-packages (from matplotlib->bioinfokit) (1.4.2)\n",
      "Requirement already satisfied: pillow>=6.2.0 in c:\\users\\nickmolliconi\\lib\\site-packages (from matplotlib->bioinfokit) (9.0.1)\n",
      "Requirement already satisfied: six>=1.5 in c:\\users\\nickmolliconi\\lib\\site-packages (from python-dateutil>=2.7->matplotlib->bioinfokit) (1.16.0)\n",
      "Requirement already satisfied: pytz>=2020.1 in c:\\users\\nickmolliconi\\lib\\site-packages (from pandas->bioinfokit) (2021.3)\n",
      "Requirement already satisfied: threadpoolctl>=2.0.0 in c:\\users\\nickmolliconi\\lib\\site-packages (from scikit-learn->bioinfokit) (2.2.0)\n",
      "Requirement already satisfied: joblib>=0.11 in c:\\users\\nickmolliconi\\lib\\site-packages (from scikit-learn->bioinfokit) (1.1.0)\n",
      "Requirement already satisfied: patsy>=0.5.2 in c:\\users\\nickmolliconi\\lib\\site-packages (from statsmodels->bioinfokit) (0.5.2)\n",
      "Note: you may need to restart the kernel to use updated packages.\n"
     ]
    }
   ],
   "source": [
    "pip install bioinfokit"
   ]
  },
  {
   "cell_type": "code",
   "execution_count": 5,
   "id": "fc211758",
   "metadata": {},
   "outputs": [
    {
     "name": "stderr",
     "output_type": "stream",
     "text": [
      "[nltk_data] Downloading package punkt to C:\\Users\\Nick\n",
      "[nltk_data]     Molliconi\\AppData\\Roaming\\nltk_data...\n",
      "[nltk_data]   Package punkt is already up-to-date!\n"
     ]
    }
   ],
   "source": [
    "import pylab\n",
    "from IPython.display import display\n",
    "import pandas as pd\n",
    "from pandas_profiling import ProfileReport\n",
    "import matplotlib.pyplot as plt\n",
    "import seaborn as sns\n",
    "import numpy as np\n",
    "%matplotlib inline\n",
    "sns.set()  \n",
    "from numpy.random import seed\n",
    "from numpy.random import randn\n",
    "from numpy import mean\n",
    "from numpy import std\n",
    "import matplotlib.pyplot as plot\n",
    "import numpy as np\n",
    "%matplotlib inline\n",
    "import os\n",
    "import pandas\n",
    "from scipy.stats import chi2_contingency\n",
    "from numpy.random import rand\n",
    "from numpy.random import seed\n",
    "from scipy.stats import spearmanr\n",
    "import nltk\n",
    "from textblob import TextBlob\n",
    "from nltk.corpus import stopwords\n",
    "from nltk.tokenize import word_tokenize\n",
    "from nltk.stem import WordNetLemmatizer\n",
    "from nltk import ngrams\n",
    "from collections import Counter\n",
    "nltk.download('punkt')\n",
    "from nltk.util import ngrams\n",
    "from nltk.tokenize import sent_tokenize, word_tokenize\n",
    "from nltk.collocations import *\n",
    "import re \n",
    "from scipy import stats\n",
    "from scipy.stats import chi2_contingency \n",
    "import nltk\n",
    "from nltk.corpus import stopwords\n",
    "from wordcloud import WordCloud, STOPWORDS\n",
    "from scipy.stats import chi2\n",
    "from bioinfokit.analys import stat\n",
    "from numpy.random import rand\n",
    "from numpy.random import seed\n",
    "from scipy.stats import spearmanr\n",
    "from scipy.stats import chi2_contingency "
   ]
  },
  {
   "cell_type": "code",
   "execution_count": 6,
   "id": "4964575b",
   "metadata": {},
   "outputs": [],
   "source": [
    "RN = pd.read_csv('data_2_4_v1.csv')"
   ]
  },
  {
   "cell_type": "markdown",
   "id": "155ae136",
   "metadata": {},
   "source": [
    "# DATA PREPRATION EDA"
   ]
  },
  {
   "cell_type": "code",
   "execution_count": 7,
   "id": "414a79fb",
   "metadata": {},
   "outputs": [],
   "source": [
    "RN.rename(columns={'What is your age group as of today?  ':'AgeGroup'},inplace=True)"
   ]
  },
  {
   "cell_type": "code",
   "execution_count": 8,
   "id": "eb52bc37",
   "metadata": {},
   "outputs": [],
   "source": [
    "RNAGE = pd.DataFrame({'AgeGroup': RN['AgeGroup']})"
   ]
  },
  {
   "cell_type": "code",
   "execution_count": 9,
   "id": "c07c478c",
   "metadata": {},
   "outputs": [],
   "source": [
    "RNAGE=RNAGE.dropna()"
   ]
  },
  {
   "cell_type": "code",
   "execution_count": 10,
   "id": "9e2524c4",
   "metadata": {},
   "outputs": [],
   "source": [
    "RNAGE['AgeGroup']=RNAGE['AgeGroup'].replace(['18-24'],'18-44')\n",
    "RNAGE['AgeGroup']=RNAGE['AgeGroup'].replace(['25-34'],'18-44')\n",
    "RNAGE['AgeGroup']=RNAGE['AgeGroup'].replace(['35-44'],'18-44')\n",
    "RNAGE['AgeGroup']=RNAGE['AgeGroup'].replace(['45-54'],'45+')\n",
    "RNAGE['AgeGroup']=RNAGE['AgeGroup'].replace(['55-64'],'45+')\n",
    "RNAGE['AgeGroup']=RNAGE['AgeGroup'].replace(['65+'],'45+')"
   ]
  },
  {
   "cell_type": "code",
   "execution_count": 11,
   "id": "06dfc404",
   "metadata": {},
   "outputs": [],
   "source": [
    "RN.rename(columns={'What is the highest level of education you have completed?':'Education_Level'},inplace=True)"
   ]
  },
  {
   "cell_type": "code",
   "execution_count": 12,
   "id": "9ee6b7ba",
   "metadata": {},
   "outputs": [],
   "source": [
    "RNED = pd.DataFrame({'Education_Level': RN['Education_Level']})"
   ]
  },
  {
   "cell_type": "code",
   "execution_count": 13,
   "id": "1ac15ed6",
   "metadata": {},
   "outputs": [],
   "source": [
    "RNED=RNED.dropna()\n"
   ]
  },
  {
   "cell_type": "code",
   "execution_count": 14,
   "id": "dac97f9d",
   "metadata": {},
   "outputs": [],
   "source": [
    "RN.rename(columns={'In what year were you first licensed as a nurse?  Please enter your response in the space provided below. ':'Year_Licensed'},inplace=True)"
   ]
  },
  {
   "cell_type": "code",
   "execution_count": 15,
   "id": "ea81ebd6",
   "metadata": {},
   "outputs": [],
   "source": [
    "RNYL = pd.DataFrame({'Year_Licensed': RN['Year_Licensed']})"
   ]
  },
  {
   "cell_type": "code",
   "execution_count": 16,
   "id": "46cf1ee0",
   "metadata": {},
   "outputs": [],
   "source": [
    "RNYL['Year_Licensed']=RNYL['Year_Licensed'].replace(['Minnesota'],'nan')"
   ]
  },
  {
   "cell_type": "code",
   "execution_count": 17,
   "id": "22d25dc4",
   "metadata": {},
   "outputs": [],
   "source": [
    "RNYL['Year_Licensed']=RNYL['Year_Licensed'].replace(['I was licensed as an RN in 2011 and an LPN in 2004. '],'nan')"
   ]
  },
  {
   "cell_type": "code",
   "execution_count": 18,
   "id": "740a7e25",
   "metadata": {},
   "outputs": [],
   "source": [
    "RNYL=RNYL.dropna()\n"
   ]
  },
  {
   "cell_type": "code",
   "execution_count": 19,
   "id": "ebeca2aa",
   "metadata": {},
   "outputs": [],
   "source": [
    "RN.rename(columns={'How long have you been licensed at your current level of nursing practice?':'Current_Level_Length_Licensed'},inplace=True)"
   ]
  },
  {
   "cell_type": "code",
   "execution_count": 20,
   "id": "74923065",
   "metadata": {},
   "outputs": [],
   "source": [
    "RNLYL = pd.DataFrame({'Current_Level_Length_Licensed': RN['Current_Level_Length_Licensed']})"
   ]
  },
  {
   "cell_type": "code",
   "execution_count": 21,
   "id": "b090aeb3",
   "metadata": {},
   "outputs": [],
   "source": [
    "RNLYL=RNLYL.dropna()\n"
   ]
  },
  {
   "cell_type": "code",
   "execution_count": 22,
   "id": "1392404b",
   "metadata": {},
   "outputs": [],
   "source": [
    "RN.rename(columns={'In what type of facility did you work as a nurse as of January 1, 2019?Please choose ONE of the following that best describes your most common work facility at that time.  ':'Facility_Worked_2019'},inplace=True)"
   ]
  },
  {
   "cell_type": "code",
   "execution_count": 23,
   "id": "2677d6f6",
   "metadata": {},
   "outputs": [],
   "source": [
    "RNFAC2019 = pd.DataFrame({'Facility_Worked_2019': RN['Facility_Worked_2019']})"
   ]
  },
  {
   "cell_type": "code",
   "execution_count": 24,
   "id": "12d1f392",
   "metadata": {},
   "outputs": [],
   "source": [
    "RNFAC2019=RNFAC2019.dropna()\n"
   ]
  },
  {
   "cell_type": "code",
   "execution_count": 25,
   "id": "572b9886",
   "metadata": {},
   "outputs": [],
   "source": [
    "RNFAC2019['Facility_Worked_2019']=RNFAC2019['Facility_Worked_2019'].replace(['Other:Please write the facility type in the space provided below.'],'Other')"
   ]
  },
  {
   "cell_type": "code",
   "execution_count": 26,
   "id": "eb6a25be",
   "metadata": {},
   "outputs": [],
   "source": [
    "RNFAC2019['Facility_Worked_2019']=RNFAC2019['Facility_Worked_2019'].replace(['Outpatient clinical (primary care or specialty)'],'Outpatient')"
   ]
  },
  {
   "cell_type": "code",
   "execution_count": 27,
   "id": "33a8cb24",
   "metadata": {},
   "outputs": [],
   "source": [
    "RN.rename(columns={'If you worked in acute care hospital as of January 1, 2019, in what area of the hospital did you work?Please select the ONE that reflects your primary unit/department.':'Facility_Department_2019'},inplace=True)"
   ]
  },
  {
   "cell_type": "code",
   "execution_count": 28,
   "id": "a359e335",
   "metadata": {},
   "outputs": [],
   "source": [
    "RNFDEPT2019 = pd.DataFrame({'Facility_Department_2019': RN['Facility_Department_2019']})"
   ]
  },
  {
   "cell_type": "code",
   "execution_count": 29,
   "id": "b295fa97",
   "metadata": {},
   "outputs": [],
   "source": [
    "RNFDEPT2019=RNFDEPT2019.dropna()\n",
    "RNFDEPT2019['Facility_Department_2019']=RNFDEPT2019['Facility_Department_2019'].replace(['OB / Women and Infants (including mother / baby or postpartum)'],'OB/MOM/BABY')\n",
    "RNFDEPT2019['Facility_Department_2019']=RNFDEPT2019['Facility_Department_2019'].replace(['Other:Please enter your unit or department in the space below.'],'Other')\n",
    "RNFDEPT2019['Facility_Department_2019']=RNFDEPT2019['Facility_Department_2019'].replace(['Not in direct patient care (i.e. education, research, management/leadership, care management, informatics, etc.)'\n",
    "                                                                                        ],'Non Pt Care')"
   ]
  },
  {
   "cell_type": "code",
   "execution_count": 30,
   "id": "d67ebdca",
   "metadata": {},
   "outputs": [],
   "source": [
    "RN.rename(columns={'In what type of facility do you currently work as a nurse?Please choose ONE of the following that best describes your most common work facility at that time.':'Current_Facility_Worked'},inplace=True)"
   ]
  },
  {
   "cell_type": "code",
   "execution_count": 31,
   "id": "fa184314",
   "metadata": {},
   "outputs": [],
   "source": [
    "RNFCURRENT = pd.DataFrame({'Current_Facility_Worked': RN['Current_Facility_Worked']})"
   ]
  },
  {
   "cell_type": "code",
   "execution_count": 32,
   "id": "4535bf6b",
   "metadata": {},
   "outputs": [],
   "source": [
    "RNFCURRENT=RNFCURRENT.dropna()\n"
   ]
  },
  {
   "cell_type": "code",
   "execution_count": 33,
   "id": "658ce172",
   "metadata": {},
   "outputs": [],
   "source": [
    "RNFCURRENT['Current_Facility_Worked']=RNFCURRENT['Current_Facility_Worked'].replace(['Other:Please write the facility type in the space provided below.'],'Other')\n",
    "RNFCURRENT['Current_Facility_Worked']=RNFCURRENT['Current_Facility_Worked'].replace(['Outpatient clinical (primary care or specialty)'],'Outpatient')"
   ]
  },
  {
   "cell_type": "code",
   "execution_count": 34,
   "id": "1487e3bb",
   "metadata": {},
   "outputs": [],
   "source": [
    "RN.rename(columns={'If you work in acute care as of today, in what area of the hospital do you work?Please select the ONE that reflects your primary unit/department.':'Current_Facility_Department_Worked'},inplace=True)"
   ]
  },
  {
   "cell_type": "code",
   "execution_count": 35,
   "id": "775bcaea",
   "metadata": {},
   "outputs": [],
   "source": [
    "RNFDCURRENT = pd.DataFrame({'Current_Facility_Department_Worked': RN['Current_Facility_Department_Worked']})"
   ]
  },
  {
   "cell_type": "code",
   "execution_count": 36,
   "id": "652efc6b",
   "metadata": {},
   "outputs": [],
   "source": [
    "RNFDCURRENT=RNFDCURRENT.dropna()\n"
   ]
  },
  {
   "cell_type": "code",
   "execution_count": 37,
   "id": "ff681c9a",
   "metadata": {},
   "outputs": [],
   "source": [
    "RNFDCURRENT['Current_Facility_Department_Worked']=RNFDCURRENT['Current_Facility_Department_Worked'].replace(['OB / Women and Infants (including mother / baby or postpartum)'],'OB/MOM/BABY')\n",
    "RNFDCURRENT['Current_Facility_Department_Worked']=RNFDCURRENT['Current_Facility_Department_Worked'].replace(['Other:Please enter your unit or department in the space below.'],'Other')\n",
    "RNFDCURRENT['Current_Facility_Department_Worked']=RNFDCURRENT['Current_Facility_Department_Worked'].replace(['Not in direct patient care (i.e. education, research, management/leadership, care management, informatics, etc.)'\n",
    "                                                                                        ],'Non Pt Care')"
   ]
  },
  {
   "cell_type": "code",
   "execution_count": 38,
   "id": "a9689cc0",
   "metadata": {},
   "outputs": [],
   "source": [
    "RN.rename(columns={'What was your annual range as of January 1, 2019?':'Salary_in_2019'},inplace=True)"
   ]
  },
  {
   "cell_type": "code",
   "execution_count": 39,
   "id": "b00d2941",
   "metadata": {},
   "outputs": [],
   "source": [
    "RNSAL2019 = pd.DataFrame({'Salary_in_2019': RN['Salary_in_2019']})"
   ]
  },
  {
   "cell_type": "code",
   "execution_count": 40,
   "id": "c634274d",
   "metadata": {},
   "outputs": [],
   "source": [
    "RNSAL2019=RNSAL2019.dropna()\n"
   ]
  },
  {
   "cell_type": "code",
   "execution_count": 41,
   "id": "e797e70c",
   "metadata": {},
   "outputs": [],
   "source": [
    "RNSAL2019['Salary_in_2019']=RNSAL2019['Salary_in_2019'].replace(['$55,000to$65,000'],'$55,000-$65,000')"
   ]
  },
  {
   "cell_type": "code",
   "execution_count": 42,
   "id": "78b40ebd",
   "metadata": {},
   "outputs": [],
   "source": [
    "RN.rename(columns={'What is your annual range as of today?':'Salary_Current'},inplace=True)"
   ]
  },
  {
   "cell_type": "code",
   "execution_count": 43,
   "id": "80056c4c",
   "metadata": {},
   "outputs": [],
   "source": [
    "RNSALCUR = pd.DataFrame({'Salary_Current': RN['Salary_Current']})"
   ]
  },
  {
   "cell_type": "code",
   "execution_count": 44,
   "id": "44eb2ad7",
   "metadata": {},
   "outputs": [],
   "source": [
    "RNSALCUR=RNSALCUR.dropna()\n"
   ]
  },
  {
   "cell_type": "code",
   "execution_count": 45,
   "id": "28e8dac1",
   "metadata": {},
   "outputs": [],
   "source": [
    "RN.rename(columns={'Have you changed jobs since January 1, 2019? ':'ChangedJob2019'},inplace=True)"
   ]
  },
  {
   "cell_type": "code",
   "execution_count": 46,
   "id": "b0e4756b",
   "metadata": {},
   "outputs": [],
   "source": [
    "RNJOBCHG2019 = pd.DataFrame({'ChangedJob2019': RN['ChangedJob2019']})"
   ]
  },
  {
   "cell_type": "code",
   "execution_count": 47,
   "id": "869e7ecf",
   "metadata": {},
   "outputs": [],
   "source": [
    "RNJOBCHG2019=RNJOBCHG2019.dropna()\n"
   ]
  },
  {
   "cell_type": "code",
   "execution_count": 48,
   "id": "5a08db16",
   "metadata": {},
   "outputs": [],
   "source": [
    "RN.rename(columns={'Are you planning to change jobs in the next six months?':'ChangedJobIN6MOS'},inplace=True)"
   ]
  },
  {
   "cell_type": "code",
   "execution_count": 49,
   "id": "002e510c",
   "metadata": {},
   "outputs": [],
   "source": [
    "RNJOB6MO = pd.DataFrame({'ChangedJobIN6MOS': RN['ChangedJobIN6MOS']})"
   ]
  },
  {
   "cell_type": "code",
   "execution_count": 50,
   "id": "f7e37d87",
   "metadata": {},
   "outputs": [],
   "source": [
    "RNJOB6MO=RNJOB6MO.dropna()\n"
   ]
  },
  {
   "cell_type": "code",
   "execution_count": 51,
   "id": "50b88cf1",
   "metadata": {},
   "outputs": [],
   "source": [
    "RN.rename(columns={'Are you planning to leave the nursing profession entirely within the next six months?':'LeavingJobIN6MOS'},inplace=True)"
   ]
  },
  {
   "cell_type": "code",
   "execution_count": 52,
   "id": "a6149336",
   "metadata": {},
   "outputs": [],
   "source": [
    "RNLEAVEJOB6MO = pd.DataFrame({'LeavingJobIN6MOS': RN['LeavingJobIN6MOS']})"
   ]
  },
  {
   "cell_type": "code",
   "execution_count": 53,
   "id": "90b2a193",
   "metadata": {},
   "outputs": [],
   "source": [
    "RNLEAVEJOB6MO=RNLEAVEJOB6MO.dropna()\n"
   ]
  },
  {
   "cell_type": "code",
   "execution_count": 54,
   "id": "12814e57",
   "metadata": {},
   "outputs": [],
   "source": [
    "RN.rename(columns={'Which of the following is your typical shift?':'Shift'},inplace=True)"
   ]
  },
  {
   "cell_type": "code",
   "execution_count": 55,
   "id": "4c512e87",
   "metadata": {},
   "outputs": [],
   "source": [
    "RNSHIFT = pd.DataFrame({'Shift': RN['Shift']})"
   ]
  },
  {
   "cell_type": "code",
   "execution_count": 56,
   "id": "7c29ff86",
   "metadata": {},
   "outputs": [],
   "source": [
    "RNSHIFT=RNSHIFT.dropna()\n"
   ]
  },
  {
   "cell_type": "code",
   "execution_count": 57,
   "id": "062a083a",
   "metadata": {},
   "outputs": [],
   "source": [
    "RN.rename(columns={'What do you like least about being a nurse?':'LeastLikeRN'},inplace=True)"
   ]
  },
  {
   "cell_type": "code",
   "execution_count": 58,
   "id": "0aa43273",
   "metadata": {},
   "outputs": [],
   "source": [
    "RNLL = pd.DataFrame({'LeastLikeRN': RN['LeastLikeRN']})"
   ]
  },
  {
   "cell_type": "code",
   "execution_count": 59,
   "id": "a22befe5",
   "metadata": {},
   "outputs": [],
   "source": [
    "RNLL=RNLL.dropna()"
   ]
  },
  {
   "cell_type": "code",
   "execution_count": 60,
   "id": "3831bc88",
   "metadata": {},
   "outputs": [],
   "source": [
    "RN.rename(columns={'What do you find most challenging about being a nurse?':'ChallengeRN'},inplace=True)"
   ]
  },
  {
   "cell_type": "code",
   "execution_count": 61,
   "id": "bc8e3740",
   "metadata": {},
   "outputs": [],
   "source": [
    "RNCH = pd.DataFrame({'ChallengeRN': RN['ChallengeRN']})"
   ]
  },
  {
   "cell_type": "code",
   "execution_count": 62,
   "id": "30c62d5f",
   "metadata": {},
   "outputs": [],
   "source": [
    "RNCH = RNCH.dropna()"
   ]
  },
  {
   "cell_type": "code",
   "execution_count": 63,
   "id": "615fcb43",
   "metadata": {},
   "outputs": [],
   "source": [
    "RN2 = pd.DataFrame(columns=['ChallengeRN','LeastLikeRN','Shift,LeavingJobIN6MOS','ChangedJobIN6MOS','ChangedJob2019','Salary_Current','Salary_in_2019','Current_Facility_Department_Worked','Current_Facility_Worked','Factility_Department_2019','Facility_Worked_2019','AgeGroup','Education_Level','Year_Licensed','Current_Level_Length_Licensed'])\n",
    "RN2[['AgeGroup']] = RN[['AgeGroup']]\n",
    "RN2[['Education_Level']] = RNED[['Education_Level']]\n",
    "RN2[['Year_Licensed']] = RNYL[['Year_Licensed']]\n",
    "RN2[['Current_Level_Length_Licensed']] = RNLYL[['Current_Level_Length_Licensed']]\n",
    "RN2[['Facility_Worked_2019']] = RNFAC2019[['Facility_Worked_2019']]\n",
    "RN2[['Facility_Department_2019']] = RNFDEPT2019[['Facility_Department_2019']]\n",
    "RN2[['Current_Facility_Worked']] = RNFCURRENT[['Current_Facility_Worked']]\n",
    "RN2[['Current_Facility_Department_Worked']] = RNFDCURRENT[['Current_Facility_Department_Worked']]\n",
    "RN2[['Salary_in_2019']] = RNSAL2019[['Salary_in_2019']]\n",
    "RN2[['Salary_Current']] = RNSALCUR[['Salary_Current']]\n",
    "RN2[['ChangedJob2019']] = RNJOBCHG2019[['ChangedJob2019']]\n",
    "RN2[['ChangedJobIN6MOS']] = RNJOB6MO[['ChangedJobIN6MOS']]\n",
    "RN2[['LeavingJobIN6MOS']] = RNLEAVEJOB6MO[['LeavingJobIN6MOS']]\n",
    "RN2[['Shift']] = RNSHIFT[['Shift']]\n",
    "RN2[['LeastLikeRN']] = RN[['LeastLikeRN']]\n",
    "RN2[['ChallengeRN']] = RN[['ChallengeRN']]\n",
    "\n"
   ]
  },
  {
   "cell_type": "code",
   "execution_count": 64,
   "id": "a6192c81",
   "metadata": {
    "scrolled": true
   },
   "outputs": [
    {
     "data": {
      "text/plain": [
       "Index(['ChallengeRN', 'LeastLikeRN', 'Shift,LeavingJobIN6MOS',\n",
       "       'ChangedJobIN6MOS', 'ChangedJob2019', 'Salary_Current',\n",
       "       'Salary_in_2019', 'Current_Facility_Department_Worked',\n",
       "       'Current_Facility_Worked', 'Factility_Department_2019',\n",
       "       'Facility_Worked_2019', 'AgeGroup', 'Education_Level', 'Year_Licensed',\n",
       "       'Current_Level_Length_Licensed', 'Facility_Department_2019',\n",
       "       'LeavingJobIN6MOS', 'Shift'],\n",
       "      dtype='object')"
      ]
     },
     "execution_count": 64,
     "metadata": {},
     "output_type": "execute_result"
    }
   ],
   "source": [
    "RN2.columns"
   ]
  },
  {
   "cell_type": "code",
   "execution_count": 65,
   "id": "9ec0d19a",
   "metadata": {},
   "outputs": [],
   "source": [
    "RN2['AgeGroup']=RN2['AgeGroup'].replace(['18-24'],'18-44')\n",
    "RN2['AgeGroup']=RN2['AgeGroup'].replace(['25-34'],'18-44')\n",
    "RN2['AgeGroup']=RN2['AgeGroup'].replace(['35-44'],'18-44')\n",
    "RN2['AgeGroup']=RN2['AgeGroup'].replace(['45-54'],'45+')\n",
    "RN2['AgeGroup']=RN2['AgeGroup'].replace(['55-64'],'45+')\n",
    "RN2['AgeGroup']=RN2['AgeGroup'].replace(['65+'],'45+')\n",
    "RN2['AgeGroup']=RN2['AgeGroup'].replace(['nan'],'0')"
   ]
  },
  {
   "cell_type": "code",
   "execution_count": 66,
   "id": "2de25ebe",
   "metadata": {
    "scrolled": true
   },
   "outputs": [
    {
     "data": {
      "text/plain": [
       "Index(['ChallengeRN', 'LeastLikeRN', 'Shift,LeavingJobIN6MOS',\n",
       "       'ChangedJobIN6MOS', 'ChangedJob2019', 'Salary_Current',\n",
       "       'Salary_in_2019', 'Current_Facility_Department_Worked',\n",
       "       'Current_Facility_Worked', 'Factility_Department_2019',\n",
       "       'Facility_Worked_2019', 'AgeGroup', 'Education_Level', 'Year_Licensed',\n",
       "       'Current_Level_Length_Licensed', 'Facility_Department_2019',\n",
       "       'LeavingJobIN6MOS', 'Shift'],\n",
       "      dtype='object')"
      ]
     },
     "execution_count": 66,
     "metadata": {},
     "output_type": "execute_result"
    }
   ],
   "source": [
    "RN2.columns"
   ]
  },
  {
   "cell_type": "code",
   "execution_count": 67,
   "id": "db47559d",
   "metadata": {},
   "outputs": [],
   "source": [
    "RN2=RN2.drop(0)"
   ]
  },
  {
   "cell_type": "markdown",
   "id": "881644ab",
   "metadata": {},
   "source": [
    "# EDA"
   ]
  },
  {
   "cell_type": "code",
   "execution_count": 68,
   "id": "3c7db4d9",
   "metadata": {},
   "outputs": [
    {
     "data": {
      "text/plain": [
       "[Text(0, 0, '70'), Text(0, 0, '48')]"
      ]
     },
     "execution_count": 68,
     "metadata": {},
     "output_type": "execute_result"
    },
    {
     "data": {
      "image/png": "[encoded data removed]",
      "text/plain": [
       "<Figure size 432x288 with 1 Axes>"
      ]
     },
     "metadata": {
      "needs_background": "light"
     },
     "output_type": "display_data"
    }
   ],
   "source": [
    "%matplotlib inline\n",
    "#get value counts\n",
    "counts = RN2['AgeGroup'].value_counts()\n",
    "# Plot the value counts\n",
    "ax=counts.plot(kind='bar', title='Sum of Respondents by Age Group: n=118')\n",
    "# annotate\n",
    "ax.bar_label(ax.containers[0], label_type='edge')"
   ]
  },
  {
   "cell_type": "code",
   "execution_count": 69,
   "id": "3d47b340",
   "metadata": {},
   "outputs": [
    {
     "data": {
      "text/plain": [
       "[Text(0, 0, '72'),\n",
       " Text(0, 0, '31'),\n",
       " Text(0, 0, '7'),\n",
       " Text(0, 0, '4'),\n",
       " Text(0, 0, '3'),\n",
       " Text(0, 0, '1')]"
      ]
     },
     "execution_count": 69,
     "metadata": {},
     "output_type": "execute_result"
    },
    {
     "data": {
      "image/png": "[encoded data removed]",
      "text/plain": [
       "<Figure size 432x288 with 1 Axes>"
      ]
     },
     "metadata": {
      "needs_background": "light"
     },
     "output_type": "display_data"
    }
   ],
   "source": [
    "%matplotlib inline\n",
    "#get value counts\n",
    "counts = RN2['Education_Level'].value_counts()\n",
    "# Plot the value counts\n",
    "ax=counts.plot(kind='bar', title='Sum of Respondents by Education Level: n=118')\n",
    "# annotate\n",
    "ax.bar_label(ax.containers[0], label_type='edge')"
   ]
  },
  {
   "cell_type": "code",
   "execution_count": 70,
   "id": "62679f33",
   "metadata": {},
   "outputs": [
    {
     "data": {
      "text/plain": [
       "<AxesSubplot:title={'center':'Sum of Respondents by Year Licensed'}>"
      ]
     },
     "execution_count": 70,
     "metadata": {},
     "output_type": "execute_result"
    },
    {
     "data": {
      "image/png": "[encoded data removed]",
      "text/plain": [
       "<Figure size 864x576 with 1 Axes>"
      ]
     },
     "metadata": {
      "needs_background": "light"
     },
     "output_type": "display_data"
    }
   ],
   "source": [
    "RN2['Year_Licensed'].value_counts().sort_index().plot.bar(figsize=(12,8),title='Sum of Respondents by Year Licensed')\n"
   ]
  },
  {
   "cell_type": "code",
   "execution_count": 71,
   "id": "4d7254a6",
   "metadata": {},
   "outputs": [
    {
     "data": {
      "text/plain": [
       "[Text(0, 0, '39'),\n",
       " Text(0, 0, '20'),\n",
       " Text(0, 0, '19'),\n",
       " Text(0, 0, '16'),\n",
       " Text(0, 0, '16'),\n",
       " Text(0, 0, '8')]"
      ]
     },
     "execution_count": 71,
     "metadata": {},
     "output_type": "execute_result"
    },
    {
     "data": {
      "image/png": "[encoded data removed]",
      "text/plain": [
       "<Figure size 432x288 with 1 Axes>"
      ]
     },
     "metadata": {
      "needs_background": "light"
     },
     "output_type": "display_data"
    }
   ],
   "source": [
    "%matplotlib inline\n",
    "#get value counts\n",
    "counts = RN2['Current_Level_Length_Licensed'].value_counts()\n",
    "# Plot the value counts\n",
    "ax=counts.plot(kind='bar', title='2022-2023 Respondents Length Licensed: n=118')\n",
    "# annotate\n",
    "ax.bar_label(ax.containers[0], label_type='edge')"
   ]
  },
  {
   "cell_type": "code",
   "execution_count": 72,
   "id": "e6bf4738",
   "metadata": {},
   "outputs": [
    {
     "data": {
      "text/plain": [
       "[Text(0, 0, '75'),\n",
       " Text(0, 0, '11'),\n",
       " Text(0, 0, '10'),\n",
       " Text(0, 0, '2'),\n",
       " Text(0, 0, '2'),\n",
       " Text(0, 0, '2')]"
      ]
     },
     "execution_count": 72,
     "metadata": {},
     "output_type": "execute_result"
    },
    {
     "data": {
      "image/png": "[encoded data removed]",
      "text/plain": [
       "<Figure size 432x288 with 1 Axes>"
      ]
     },
     "metadata": {
      "needs_background": "light"
     },
     "output_type": "display_data"
    }
   ],
   "source": [
    "%matplotlib inline\n",
    "#get value counts\n",
    "counts = RN2['Facility_Worked_2019'].value_counts()\n",
    "# Plot the value counts\n",
    "ax=counts.plot(kind='bar', title='Facility Worked as of 2019: n=102')\n",
    "# annotate\n",
    "ax.bar_label(ax.containers[0], label_type='edge')"
   ]
  },
  {
   "cell_type": "code",
   "execution_count": 73,
   "id": "830b3c20",
   "metadata": {},
   "outputs": [
    {
     "data": {
      "text/plain": [
       "[Text(0, 0, '19'),\n",
       " Text(0, 0, '15'),\n",
       " Text(0, 0, '12'),\n",
       " Text(0, 0, '7'),\n",
       " Text(0, 0, '7'),\n",
       " Text(0, 0, '7'),\n",
       " Text(0, 0, '7'),\n",
       " Text(0, 0, '2')]"
      ]
     },
     "execution_count": 73,
     "metadata": {},
     "output_type": "execute_result"
    },
    {
     "data": {
      "image/png": "[encoded data removed]",
      "text/plain": [
       "<Figure size 432x288 with 1 Axes>"
      ]
     },
     "metadata": {
      "needs_background": "light"
     },
     "output_type": "display_data"
    }
   ],
   "source": [
    "%matplotlib inline\n",
    "#get value counts\n",
    "counts = RN2['Facility_Department_2019'].value_counts()\n",
    "# Plot the value counts\n",
    "ax=counts.plot(kind='bar', title='Facility Department Worked as of 2019: n=76')\n",
    "# annotate\n",
    "ax.bar_label(ax.containers[0], label_type='edge')"
   ]
  },
  {
   "cell_type": "code",
   "execution_count": 74,
   "id": "38bc3d84",
   "metadata": {},
   "outputs": [
    {
     "data": {
      "text/plain": [
       "[Text(0, 0, '76'),\n",
       " Text(0, 0, '19'),\n",
       " Text(0, 0, '17'),\n",
       " Text(0, 0, '3'),\n",
       " Text(0, 0, '1')]"
      ]
     },
     "execution_count": 74,
     "metadata": {},
     "output_type": "execute_result"
    },
    {
     "data": {
      "image/png": "[encoded data removed]",
      "text/plain": [
       "<Figure size 432x288 with 1 Axes>"
      ]
     },
     "metadata": {
      "needs_background": "light"
     },
     "output_type": "display_data"
    }
   ],
   "source": [
    "%matplotlib inline\n",
    "#get value counts\n",
    "counts = RN2['Current_Facility_Worked'].value_counts()\n",
    "# Plot the value counts\n",
    "ax=counts.plot(kind='bar', title='2022-2023 Facility Worked: n=116')\n",
    "# annotate\n",
    "ax.bar_label(ax.containers[0], label_type='edge')"
   ]
  },
  {
   "cell_type": "code",
   "execution_count": 75,
   "id": "7ff01e67",
   "metadata": {
    "scrolled": false
   },
   "outputs": [
    {
     "data": {
      "text/plain": [
       "[Text(0, 0, '23'),\n",
       " Text(0, 0, '17'),\n",
       " Text(0, 0, '14'),\n",
       " Text(0, 0, '7'),\n",
       " Text(0, 0, '6'),\n",
       " Text(0, 0, '3'),\n",
       " Text(0, 0, '3'),\n",
       " Text(0, 0, '2'),\n",
       " Text(0, 0, '2')]"
      ]
     },
     "execution_count": 75,
     "metadata": {},
     "output_type": "execute_result"
    },
    {
     "data": {
      "image/png": "[encoded data removed]",
      "text/plain": [
       "<Figure size 432x288 with 1 Axes>"
      ]
     },
     "metadata": {
      "needs_background": "light"
     },
     "output_type": "display_data"
    }
   ],
   "source": [
    "%matplotlib inline\n",
    "#get value counts\n",
    "counts = RN2['Current_Facility_Department_Worked'].value_counts()\n",
    "# Plot the value counts\n",
    "ax=counts.plot(kind='bar', title='2022-2023 Facility Department Worked: n=77')\n",
    "# annotate\n",
    "ax.bar_label(ax.containers[0], label_type='edge')"
   ]
  },
  {
   "cell_type": "code",
   "execution_count": 76,
   "id": "d884c9e7",
   "metadata": {},
   "outputs": [
    {
     "data": {
      "text/plain": [
       "[Text(0, 0, '30'),\n",
       " Text(0, 0, '29'),\n",
       " Text(0, 0, '23'),\n",
       " Text(0, 0, '21'),\n",
       " Text(0, 0, '2'),\n",
       " Text(0, 0, '1')]"
      ]
     },
     "execution_count": 76,
     "metadata": {},
     "output_type": "execute_result"
    },
    {
     "data": {
      "image/png": "[encoded data removed]",
      "text/plain": [
       "<Figure size 432x288 with 1 Axes>"
      ]
     },
     "metadata": {
      "needs_background": "light"
     },
     "output_type": "display_data"
    }
   ],
   "source": [
    "%matplotlib inline\n",
    "#get value counts\n",
    "counts = RN2['Shift'].value_counts()\n",
    "# Plot the value counts\n",
    "ax=counts.plot(kind='bar', title='2022-2023 Respondents Typical Shift Worked: n=106')\n",
    "# annotate\n",
    "ax.bar_label(ax.containers[0], label_type='edge')"
   ]
  },
  {
   "cell_type": "code",
   "execution_count": 77,
   "id": "97e80e75",
   "metadata": {},
   "outputs": [
    {
     "data": {
      "text/plain": [
       "<AxesSubplot:title={'center':'Salary as of 2019'}, ylabel='Salary_in_2019'>"
      ]
     },
     "execution_count": 77,
     "metadata": {},
     "output_type": "execute_result"
    },
    {
     "data": {
      "image/png": "[encoded data removed]",
      "text/plain": [
       "<Figure size 864x360 with 1 Axes>"
      ]
     },
     "metadata": {},
     "output_type": "display_data"
    }
   ],
   "source": [
    "RN2['Salary_in_2019'].value_counts().plot.pie(figsize=(12,5),autopct='%1.0f%%', title='Salary as of 2019')"
   ]
  },
  {
   "cell_type": "code",
   "execution_count": 78,
   "id": "ebd55bed",
   "metadata": {},
   "outputs": [
    {
     "data": {
      "text/plain": [
       "<AxesSubplot:title={'center':'2022-2023 Respondents Salary'}, ylabel='Salary_Current'>"
      ]
     },
     "execution_count": 78,
     "metadata": {},
     "output_type": "execute_result"
    },
    {
     "data": {
      "image/png": "[encoded data removed]",
      "text/plain": [
       "<Figure size 864x360 with 1 Axes>"
      ]
     },
     "metadata": {},
     "output_type": "display_data"
    }
   ],
   "source": [
    "RN2['Salary_Current'].value_counts().plot.pie(figsize=(12,5),autopct='%1.0f%%', title='2022-2023 Respondents Salary')"
   ]
  },
  {
   "cell_type": "code",
   "execution_count": 79,
   "id": "c2e2e6c6",
   "metadata": {},
   "outputs": [
    {
     "data": {
      "text/plain": [
       "<AxesSubplot:title={'center':'Changed Job Since 2019'}, ylabel='ChangedJob2019'>"
      ]
     },
     "execution_count": 79,
     "metadata": {},
     "output_type": "execute_result"
    },
    {
     "data": {
      "image/png": "[encoded data removed]",
      "text/plain": [
       "<Figure size 864x360 with 1 Axes>"
      ]
     },
     "metadata": {},
     "output_type": "display_data"
    }
   ],
   "source": [
    "RN2['ChangedJob2019'].value_counts().plot.pie(figsize=(12,5),autopct='%1.0f%%', title='Changed Job Since 2019')"
   ]
  },
  {
   "cell_type": "code",
   "execution_count": 80,
   "id": "fa64cb1c",
   "metadata": {},
   "outputs": [
    {
     "data": {
      "text/plain": [
       "<AxesSubplot:title={'center':'Planning on Changing Job In Next 6 Months'}, ylabel='ChangedJobIN6MOS'>"
      ]
     },
     "execution_count": 80,
     "metadata": {},
     "output_type": "execute_result"
    },
    {
     "data": {
      "image/png": "[encoded data removed]",
      "text/plain": [
       "<Figure size 864x360 with 1 Axes>"
      ]
     },
     "metadata": {},
     "output_type": "display_data"
    }
   ],
   "source": [
    "RN2['ChangedJobIN6MOS'].value_counts().plot.pie(figsize=(12,5),autopct='%1.0f%%', title='Planning on Changing Job In Next 6 Months')"
   ]
  },
  {
   "cell_type": "code",
   "execution_count": 81,
   "id": "8cd23ac3",
   "metadata": {},
   "outputs": [
    {
     "data": {
      "text/plain": [
       "<AxesSubplot:title={'center':'Leaving RN Job in last 6 Months'}, ylabel='LeavingJobIN6MOS'>"
      ]
     },
     "execution_count": 81,
     "metadata": {},
     "output_type": "execute_result"
    },
    {
     "data": {
      "image/png": "[encoded data removed]",
      "text/plain": [
       "<Figure size 864x360 with 1 Axes>"
      ]
     },
     "metadata": {},
     "output_type": "display_data"
    }
   ],
   "source": [
    "RN2['LeavingJobIN6MOS'].value_counts().plot.pie(figsize=(12,5),autopct='%1.0f%%', title='Leaving RN Job in last 6 Months')"
   ]
  },
  {
   "cell_type": "markdown",
   "id": "bfbfb79d",
   "metadata": {},
   "source": [
    "# ANALYSIS"
   ]
  },
  {
   "cell_type": "markdown",
   "id": "e95cb20b",
   "metadata": {},
   "source": [
    "### H0: 1.\tH0: Staff age forty-five and older (45+) will have a higher probability leaving the profession within six (6) months.\n",
    "\n",
    "### H1: Staff age forty-five and older (45+)  will not have a higher probability of leaving the profession within six (6) months."
   ]
  },
  {
   "cell_type": "code",
   "execution_count": 82,
   "id": "910e5878",
   "metadata": {},
   "outputs": [
    {
     "data": {
      "text/html": [
       "<div>\n",
       "<style scoped>\n",
       "    .dataframe tbody tr th:only-of-type {\n",
       "        vertical-align: middle;\n",
       "    }\n",
       "\n",
       "    .dataframe tbody tr th {\n",
       "        vertical-align: top;\n",
       "    }\n",
       "\n",
       "    .dataframe thead th {\n",
       "        text-align: right;\n",
       "    }\n",
       "</style>\n",
       "<table border=\"1\" class=\"dataframe\">\n",
       "  <thead>\n",
       "    <tr style=\"text-align: right;\">\n",
       "      <th>LeavingJobIN6MOS</th>\n",
       "      <th>Maybe</th>\n",
       "      <th>No</th>\n",
       "      <th>Yes</th>\n",
       "    </tr>\n",
       "    <tr>\n",
       "      <th>AgeGroup</th>\n",
       "      <th></th>\n",
       "      <th></th>\n",
       "      <th></th>\n",
       "    </tr>\n",
       "  </thead>\n",
       "  <tbody>\n",
       "    <tr>\n",
       "      <th>18-44</th>\n",
       "      <td>7</td>\n",
       "      <td>54</td>\n",
       "      <td>1</td>\n",
       "    </tr>\n",
       "    <tr>\n",
       "      <th>45+</th>\n",
       "      <td>4</td>\n",
       "      <td>39</td>\n",
       "      <td>0</td>\n",
       "    </tr>\n",
       "  </tbody>\n",
       "</table>\n",
       "</div>"
      ],
      "text/plain": [
       "LeavingJobIN6MOS  Maybe  No  Yes\n",
       "AgeGroup                        \n",
       "18-44                 7  54    1\n",
       "45+                   4  39    0"
      ]
     },
     "execution_count": 82,
     "metadata": {},
     "output_type": "execute_result"
    }
   ],
   "source": [
    "from scipy.stats import chi2_contingency \n",
    "contigency_pct = pd.crosstab(RN2['AgeGroup'], RN2['LeavingJobIN6MOS'])\n",
    "contigency_pct\n"
   ]
  },
  {
   "cell_type": "code",
   "execution_count": 83,
   "id": "a940b89f",
   "metadata": {},
   "outputs": [
    {
     "data": {
      "text/plain": [
       "0.6614954723209637"
      ]
     },
     "execution_count": 83,
     "metadata": {},
     "output_type": "execute_result"
    }
   ],
   "source": [
    "c, p, dof, expected = chi2_contingency(contigency_pct)\n",
    "p"
   ]
  },
  {
   "cell_type": "code",
   "execution_count": 84,
   "id": "d0e6701f",
   "metadata": {},
   "outputs": [
    {
     "ename": "TypeError",
     "evalue": "ufunc 'isfinite' not supported for the input types, and the inputs could not be safely coerced to any supported types according to the casting rule ''safe''",
     "output_type": "error",
     "traceback": [
      "\u001b[1;31m---------------------------------------------------------------------------\u001b[0m",
      "\u001b[1;31mTypeError\u001b[0m                                 Traceback (most recent call last)",
      "Input \u001b[1;32mIn [84]\u001b[0m, in \u001b[0;36m<cell line: 1>\u001b[1;34m()\u001b[0m\n\u001b[1;32m----> 1\u001b[0m coef, p \u001b[38;5;241m=\u001b[39m \u001b[43mspearmanr\u001b[49m\u001b[43m(\u001b[49m\u001b[43mRN2\u001b[49m\u001b[43m[\u001b[49m\u001b[38;5;124;43m'\u001b[39;49m\u001b[38;5;124;43mAgeGroup\u001b[39;49m\u001b[38;5;124;43m'\u001b[39;49m\u001b[43m]\u001b[49m\u001b[43m,\u001b[49m\u001b[43m \u001b[49m\u001b[43mRN2\u001b[49m\u001b[43m[\u001b[49m\u001b[38;5;124;43m'\u001b[39;49m\u001b[38;5;124;43mLeavingJobIN6MOS\u001b[39;49m\u001b[38;5;124;43m'\u001b[39;49m\u001b[43m]\u001b[49m\u001b[43m,\u001b[49m\u001b[43mnan_policy\u001b[49m\u001b[38;5;241;43m=\u001b[39;49m\u001b[38;5;124;43m'\u001b[39;49m\u001b[38;5;124;43momit\u001b[39;49m\u001b[38;5;124;43m'\u001b[39;49m\u001b[43m)\u001b[49m\n\u001b[0;32m      2\u001b[0m seed(\u001b[38;5;241m1\u001b[39m)\n\u001b[0;32m      3\u001b[0m \u001b[38;5;28mprint\u001b[39m(\u001b[38;5;124m'\u001b[39m\u001b[38;5;124mSpearmans correlation coefficient: \u001b[39m\u001b[38;5;132;01m%.3f\u001b[39;00m\u001b[38;5;124m'\u001b[39m \u001b[38;5;241m%\u001b[39m coef)\n",
      "File \u001b[1;32mC:\\Users\\NickMolliconi\\lib\\site-packages\\scipy\\stats\\stats.py:4497\u001b[0m, in \u001b[0;36mspearmanr\u001b[1;34m(a, b, axis, nan_policy, alternative)\u001b[0m\n\u001b[0;32m   4495\u001b[0m \u001b[38;5;28;01mif\u001b[39;00m a_contains_nan:\n\u001b[0;32m   4496\u001b[0m     \u001b[38;5;28;01mif\u001b[39;00m nan_policy \u001b[38;5;241m==\u001b[39m \u001b[38;5;124m'\u001b[39m\u001b[38;5;124momit\u001b[39m\u001b[38;5;124m'\u001b[39m:\n\u001b[1;32m-> 4497\u001b[0m         \u001b[38;5;28;01mreturn\u001b[39;00m \u001b[43mmstats_basic\u001b[49m\u001b[38;5;241;43m.\u001b[39;49m\u001b[43mspearmanr\u001b[49m\u001b[43m(\u001b[49m\u001b[43ma\u001b[49m\u001b[43m,\u001b[49m\u001b[43m \u001b[49m\u001b[43maxis\u001b[49m\u001b[38;5;241;43m=\u001b[39;49m\u001b[43maxis\u001b[49m\u001b[43m,\u001b[49m\u001b[43m \u001b[49m\u001b[43mnan_policy\u001b[49m\u001b[38;5;241;43m=\u001b[39;49m\u001b[43mnan_policy\u001b[49m\u001b[43m,\u001b[49m\n\u001b[0;32m   4498\u001b[0m \u001b[43m                                      \u001b[49m\u001b[43malternative\u001b[49m\u001b[38;5;241;43m=\u001b[39;49m\u001b[43malternative\u001b[49m\u001b[43m)\u001b[49m\n\u001b[0;32m   4499\u001b[0m     \u001b[38;5;28;01melif\u001b[39;00m nan_policy \u001b[38;5;241m==\u001b[39m \u001b[38;5;124m'\u001b[39m\u001b[38;5;124mpropagate\u001b[39m\u001b[38;5;124m'\u001b[39m:\n\u001b[0;32m   4500\u001b[0m         \u001b[38;5;28;01mif\u001b[39;00m a\u001b[38;5;241m.\u001b[39mndim \u001b[38;5;241m==\u001b[39m \u001b[38;5;241m1\u001b[39m \u001b[38;5;129;01mor\u001b[39;00m n_vars \u001b[38;5;241m<\u001b[39m\u001b[38;5;241m=\u001b[39m \u001b[38;5;241m2\u001b[39m:\n",
      "File \u001b[1;32mC:\\Users\\NickMolliconi\\lib\\site-packages\\scipy\\stats\\mstats_basic.py:491\u001b[0m, in \u001b[0;36mspearmanr\u001b[1;34m(x, y, use_ties, axis, nan_policy, alternative)\u001b[0m\n\u001b[0;32m    488\u001b[0m     x \u001b[38;5;241m=\u001b[39m x\u001b[38;5;241m.\u001b[39mT\n\u001b[0;32m    490\u001b[0m \u001b[38;5;28;01mif\u001b[39;00m nan_policy \u001b[38;5;241m==\u001b[39m \u001b[38;5;124m'\u001b[39m\u001b[38;5;124momit\u001b[39m\u001b[38;5;124m'\u001b[39m:\n\u001b[1;32m--> 491\u001b[0m     x \u001b[38;5;241m=\u001b[39m \u001b[43mma\u001b[49m\u001b[38;5;241;43m.\u001b[39;49m\u001b[43mmasked_invalid\u001b[49m\u001b[43m(\u001b[49m\u001b[43mx\u001b[49m\u001b[43m)\u001b[49m\n\u001b[0;32m    493\u001b[0m \u001b[38;5;28;01mdef\u001b[39;00m \u001b[38;5;21m_spearmanr_2cols\u001b[39m(x):\n\u001b[0;32m    494\u001b[0m     \u001b[38;5;66;03m# Mask the same observations for all variables, and then drop those\u001b[39;00m\n\u001b[0;32m    495\u001b[0m     \u001b[38;5;66;03m# observations (can't leave them masked, rankdata is weird).\u001b[39;00m\n\u001b[0;32m    496\u001b[0m     x \u001b[38;5;241m=\u001b[39m ma\u001b[38;5;241m.\u001b[39mmask_rowcols(x, axis\u001b[38;5;241m=\u001b[39m\u001b[38;5;241m0\u001b[39m)\n",
      "File \u001b[1;32mC:\\Users\\NickMolliconi\\lib\\site-packages\\numpy\\ma\\core.py:2364\u001b[0m, in \u001b[0;36mmasked_invalid\u001b[1;34m(a, copy)\u001b[0m\n\u001b[0;32m   2362\u001b[0m mask \u001b[38;5;241m=\u001b[39m \u001b[38;5;28mgetattr\u001b[39m(a, \u001b[38;5;124m'\u001b[39m\u001b[38;5;124m_mask\u001b[39m\u001b[38;5;124m'\u001b[39m, \u001b[38;5;28;01mNone\u001b[39;00m)\n\u001b[0;32m   2363\u001b[0m \u001b[38;5;28;01mif\u001b[39;00m mask \u001b[38;5;129;01mis\u001b[39;00m \u001b[38;5;129;01mnot\u001b[39;00m \u001b[38;5;28;01mNone\u001b[39;00m:\n\u001b[1;32m-> 2364\u001b[0m     condition \u001b[38;5;241m=\u001b[39m \u001b[38;5;241m~\u001b[39m(\u001b[43mnp\u001b[49m\u001b[38;5;241;43m.\u001b[39;49m\u001b[43misfinite\u001b[49m\u001b[43m(\u001b[49m\u001b[43mgetdata\u001b[49m\u001b[43m(\u001b[49m\u001b[43ma\u001b[49m\u001b[43m)\u001b[49m\u001b[43m)\u001b[49m)\n\u001b[0;32m   2365\u001b[0m     \u001b[38;5;28;01mif\u001b[39;00m mask \u001b[38;5;129;01mis\u001b[39;00m \u001b[38;5;129;01mnot\u001b[39;00m nomask:\n\u001b[0;32m   2366\u001b[0m         condition \u001b[38;5;241m|\u001b[39m\u001b[38;5;241m=\u001b[39m mask\n",
      "\u001b[1;31mTypeError\u001b[0m: ufunc 'isfinite' not supported for the input types, and the inputs could not be safely coerced to any supported types according to the casting rule ''safe''"
     ]
    }
   ],
   "source": [
    "coef, p = spearmanr(RN2['AgeGroup'], RN2['LeavingJobIN6MOS'],nan_policy='omit')\n",
    "seed(1)\n",
    "print('Spearmans correlation coefficient: %.3f' % coef)\n",
    "alpha = 0.05\n",
    "if p > alpha:\n",
    " print('Samples are uncorrelated (fail to reject H0) p=%.3f' % p)\n",
    "else:\n",
    " print('Samples are correlated (reject H0) p=%.3f' % p)\n"
   ]
  },
  {
   "cell_type": "markdown",
   "id": "67e49ccf",
   "metadata": {},
   "source": [
    "### H0: Critical Care department staff will have a higher probability of leaving the profession within 6 months\n",
    "### H1: Critical Care department staff will not have a higher probability of leaving the profession within 6 months"
   ]
  },
  {
   "cell_type": "code",
   "execution_count": null,
   "id": "bd90f2b0",
   "metadata": {},
   "outputs": [],
   "source": [
    "RNCC = pd.DataFrame({'Current_Facility_Department_Worked': RN2['Current_Facility_Department_Worked']})"
   ]
  },
  {
   "cell_type": "code",
   "execution_count": null,
   "id": "5ef73c11",
   "metadata": {},
   "outputs": [],
   "source": [
    "RNCC = RNCC[RNCC.Current_Facility_Department_Worked != 'Non Pt Care']\n",
    "RNCC = RNCC[RNCC.Current_Facility_Department_Worked != 'Medical/surgical']\n",
    "RNCC = RNCC[RNCC.Current_Facility_Department_Worked != 'Surgical services']\n",
    "RNCC = RNCC[RNCC.Current_Facility_Department_Worked != 'OB/MOM/BABY']\n",
    "RNCC = RNCC[RNCC.Current_Facility_Department_Worked != 'Neonatal critical care']\n",
    "RNCC = RNCC[RNCC.Current_Facility_Department_Worked != 'Other']\n",
    "RNCC = RNCC[RNCC.Current_Facility_Department_Worked != 'Step down']"
   ]
  },
  {
   "cell_type": "code",
   "execution_count": null,
   "id": "766f3ffa",
   "metadata": {},
   "outputs": [],
   "source": [
    "RNCC['Current_Facility_Department_Worked']=RNCC['Current_Facility_Department_Worked'].replace(['Emergency department'],'Critical care')"
   ]
  },
  {
   "cell_type": "code",
   "execution_count": null,
   "id": "9d19efa0",
   "metadata": {},
   "outputs": [],
   "source": [
    "RNCC.dropna()"
   ]
  },
  {
   "cell_type": "code",
   "execution_count": null,
   "id": "dc4e4548",
   "metadata": {},
   "outputs": [],
   "source": [
    "from scipy.stats import chi2_contingency \n",
    "contigency_pct = pd.crosstab(RNCC['Current_Facility_Department_Worked'], RN2['LeavingJobIN6MOS'])\n",
    "contigency_pct"
   ]
  },
  {
   "cell_type": "code",
   "execution_count": null,
   "id": "c3e5e080",
   "metadata": {},
   "outputs": [],
   "source": [
    "c, p, dof, expected = chi2_contingency(contigency_pct)\n",
    "p"
   ]
  },
  {
   "cell_type": "code",
   "execution_count": null,
   "id": "306a1d39",
   "metadata": {},
   "outputs": [],
   "source": [
    "coef, p = spearmanr(RNCC['Current_Facility_Department_Worked'], RN2['LeavingJobIN6MOS'])\n",
    "seed(1)\n",
    "coef, p = spearmanr(RNCC['Current_Facility_Department_Worked'], RN2['LeavingJobIN6MOS'])\n",
    "print('Spearmans correlation coefficient: %.3f' % coef)\n",
    "alpha = 0.05\n",
    "if p > alpha:\n",
    " print('Samples are uncorrelated (fail to reject H0) p=%.3f' % p)\n",
    "else:\n",
    " print('Samples are correlated (reject H0) p=%.3f' % p)"
   ]
  },
  {
   "cell_type": "code",
   "execution_count": null,
   "id": "07ee909d",
   "metadata": {},
   "outputs": [],
   "source": []
  },
  {
   "cell_type": "markdown",
   "id": "a179fcc8",
   "metadata": {},
   "source": [
    "# SENTIMENT ANALYSIS"
   ]
  },
  {
   "cell_type": "code",
   "execution_count": null,
   "id": "e1e68bb9",
   "metadata": {},
   "outputs": [],
   "source": [
    "RNLL = pd.DataFrame({'LeastLikeRN': RN2['LeastLikeRN']})"
   ]
  },
  {
   "cell_type": "code",
   "execution_count": null,
   "id": "f00d54d2",
   "metadata": {},
   "outputs": [],
   "source": [
    "RNLL"
   ]
  },
  {
   "cell_type": "code",
   "execution_count": null,
   "id": "a85499ba",
   "metadata": {},
   "outputs": [],
   "source": [
    "RN2.columns"
   ]
  },
  {
   "cell_type": "code",
   "execution_count": null,
   "id": "12da9395",
   "metadata": {},
   "outputs": [],
   "source": [
    "RNLL = RNLL.dropna()\n"
   ]
  },
  {
   "cell_type": "code",
   "execution_count": null,
   "id": "6090fffa",
   "metadata": {},
   "outputs": [],
   "source": [
    "RNLL=RNLL.drop(0)"
   ]
  },
  {
   "cell_type": "code",
   "execution_count": null,
   "id": "a9bc2ae4",
   "metadata": {},
   "outputs": [],
   "source": [
    "RNLL"
   ]
  },
  {
   "cell_type": "code",
   "execution_count": null,
   "id": "4088a37b",
   "metadata": {},
   "outputs": [],
   "source": [
    "import nltk\n",
    "fd = nltk.FreqDist(' '.join(RNLL).split())\n",
    "fd.most_common(20)"
   ]
  },
  {
   "cell_type": "code",
   "execution_count": null,
   "id": "05c285a8",
   "metadata": {},
   "outputs": [],
   "source": [
    "from nltk.corpus import stopwords\n",
    "\n",
    "stops = stopwords.words('english')\n",
    "stops.append(\"\")"
   ]
  },
  {
   "cell_type": "code",
   "execution_count": null,
   "id": "6f40b5a0",
   "metadata": {},
   "outputs": [],
   "source": [
    "filtered_words = []\n",
    "for w in fd:\n",
    "    w = w.lower()\n",
    "    w = re.sub(\"[^a-zA-Z]+\", \"\", w)\n",
    "    if w not in stops:\n",
    "        filtered_words.append(w)"
   ]
  },
  {
   "cell_type": "code",
   "execution_count": null,
   "id": "a0e1b375",
   "metadata": {},
   "outputs": [],
   "source": [
    "filtered_words"
   ]
  },
  {
   "cell_type": "code",
   "execution_count": null,
   "id": "920fbf82",
   "metadata": {},
   "outputs": [],
   "source": [
    "cleaned_fd = nltk.FreqDist(filtered_words)\n",
    "cleaned_fd.most_common(20)"
   ]
  },
  {
   "cell_type": "code",
   "execution_count": null,
   "id": "b5ffadea",
   "metadata": {},
   "outputs": [],
   "source": [
    "all_text = str(RNLL.tolist())\n",
    "all_text =  all_text.lower()\n",
    "all_text = re.sub(\"[^a-zA-Z]+\", \" \", all_text)\n",
    "text_tokens = word_tokenize(all_text)\n",
    "tokens_without_sw = [word for word in text_tokens if not word in stops]\n",
    "filtered_text = (\" \").join(tokens_without_sw)\n",
    "filtered_text"
   ]
  },
  {
   "cell_type": "code",
   "execution_count": null,
   "id": "d6d27bb5",
   "metadata": {},
   "outputs": [],
   "source": [
    "def compute_freq(text, n_value=2):\n",
    "\n",
    "    tokens = nltk.word_tokenize(text)\n",
    "    ngrams = nltk.ngrams(tokens, n_value)\n",
    "    ngram_fdist = nltk.FreqDist(ngrams)\n",
    "    return ngram_fdist"
   ]
  },
  {
   "cell_type": "code",
   "execution_count": null,
   "id": "3ae16eb9",
   "metadata": {},
   "outputs": [],
   "source": [
    "freq_dist = compute_freq(filtered_text)"
   ]
  },
  {
   "cell_type": "code",
   "execution_count": null,
   "id": "8a693776",
   "metadata": {},
   "outputs": [],
   "source": [
    "freq_dist.most_common(75)"
   ]
  },
  {
   "cell_type": "code",
   "execution_count": null,
   "id": "08294064",
   "metadata": {},
   "outputs": [],
   "source": [
    "from wordcloud import WordCloud, STOPWORDS\n",
    "comment_words = ''\n",
    "stopwords = set(STOPWORDS)\n",
    "for val in RNLL.LeastLikeRN:\n",
    "     \n",
    "    # typecaste each val to string\n",
    "    val = str(val)\n",
    " \n",
    "    # split the value\n",
    "    tokens = val.split()\n",
    "     \n",
    "    # Converts each token into lowercase\n",
    "    for i in range(len(tokens)):\n",
    "        tokens[i] = tokens[i].lower()\n",
    "     \n",
    "    comment_words += \" \".join(tokens)+\" \"\n",
    " \n",
    "wordcloud = WordCloud(width = 800, height = 800,\n",
    "                background_color ='black',\n",
    "                stopwords = stopwords,\n",
    "                min_font_size = 10).generate(comment_words)\n",
    " \n",
    "# plot the WordCloud image                      \n",
    "plt.figure(figsize = (8, 8), facecolor = None)\n",
    "plt.imshow(wordcloud)\n",
    "plt.axis(\"off\")\n",
    "plt.tight_layout(pad = 0)\n",
    " \n",
    "plt.show()"
   ]
  },
  {
   "cell_type": "code",
   "execution_count": null,
   "id": "cb6ab060",
   "metadata": {},
   "outputs": [],
   "source": [
    "RNLL = pd.DataFrame(columns='LeastLikeRN')"
   ]
  },
  {
   "cell_type": "code",
   "execution_count": null,
   "id": "08ac70a6",
   "metadata": {},
   "outputs": [],
   "source": [
    "RNCRN.dropna()"
   ]
  },
  {
   "cell_type": "code",
   "execution_count": null,
   "id": "040ef76d",
   "metadata": {},
   "outputs": [],
   "source": [
    "import nltk\n",
    "fd = nltk.FreqDist(' '.join(RNCRN).split())\n",
    "fd.most_common(20)"
   ]
  },
  {
   "cell_type": "code",
   "execution_count": null,
   "id": "9c2f5e6c",
   "metadata": {},
   "outputs": [],
   "source": [
    "from nltk.corpus import stopwords\n",
    "\n",
    "stops = stopwords.words('english')\n",
    "stops.append(\"\")"
   ]
  },
  {
   "cell_type": "code",
   "execution_count": null,
   "id": "bc19692f",
   "metadata": {},
   "outputs": [],
   "source": [
    "filtered_words = []\n",
    "for w in fd:\n",
    "    w = w.lower()\n",
    "    w = re.sub(\"[^a-zA-Z]+\", \"\", w)\n",
    "    if w not in stops:\n",
    "        filtered_words.append(w)"
   ]
  },
  {
   "cell_type": "code",
   "execution_count": null,
   "id": "f22b38b7",
   "metadata": {},
   "outputs": [],
   "source": [
    "filtered_words"
   ]
  },
  {
   "cell_type": "code",
   "execution_count": null,
   "id": "e0fe9341",
   "metadata": {},
   "outputs": [],
   "source": [
    "cleaned_fd = nltk.FreqDist(filtered_words)\n",
    "cleaned_fd.most_common(20)"
   ]
  },
  {
   "cell_type": "code",
   "execution_count": null,
   "id": "fcf8bd46",
   "metadata": {},
   "outputs": [],
   "source": [
    "all_text = str(RNLL.tolist())\n",
    "all_text =  all_text.lower()\n",
    "all_text = re.sub(\"[^a-zA-Z]+\", \" \", all_text)\n",
    "text_tokens = word_tokenize(all_text)\n",
    "tokens_without_sw = [word for word in text_tokens if not word in stops]\n",
    "filtered_text = (\" \").join(tokens_without_sw)\n",
    "filtered_text"
   ]
  },
  {
   "cell_type": "code",
   "execution_count": null,
   "id": "404e828e",
   "metadata": {},
   "outputs": [],
   "source": [
    "def compute_freq(text, n_value=2):\n",
    "\n",
    "    tokens = nltk.word_tokenize(text)\n",
    "    ngrams = nltk.ngrams(tokens, n_value)\n",
    "    ngram_fdist = nltk.FreqDist(ngrams)\n",
    "    return ngram_fdist"
   ]
  },
  {
   "cell_type": "code",
   "execution_count": null,
   "id": "2e4867af",
   "metadata": {},
   "outputs": [],
   "source": [
    "freq_dist = compute_freq(filtered_text)"
   ]
  },
  {
   "cell_type": "code",
   "execution_count": null,
   "id": "462d6f62",
   "metadata": {},
   "outputs": [],
   "source": [
    "freq_dist.most_common(75)"
   ]
  },
  {
   "cell_type": "code",
   "execution_count": null,
   "id": "4a337cdd",
   "metadata": {},
   "outputs": [],
   "source": [
    "from wordcloud import WordCloud, STOPWORDS\n",
    "comment_words = ''\n",
    "stopwords = set(STOPWORDS)\n",
    "for val in RNCRN.ChallengeRN:\n",
    "     \n",
    "    # typecaste each val to string\n",
    "    val = str(val)\n",
    " \n",
    "    # split the value\n",
    "    tokens = val.split()\n",
    "     \n",
    "    # Converts each token into lowercase\n",
    "    for i in range(len(tokens)):\n",
    "        tokens[i] = tokens[i].lower()\n",
    "     \n",
    "    comment_words += \" \".join(tokens)+\" \"\n",
    " \n",
    "wordcloud = WordCloud(width = 800, height = 800,\n",
    "                background_color ='black',\n",
    "                stopwords = stopwords,\n",
    "                min_font_size = 10).generate(comment_words)\n",
    " \n",
    "# plot the WordCloud image                      \n",
    "plt.figure(figsize = (8, 8), facecolor = None)\n",
    "plt.imshow(wordcloud)\n",
    "plt.axis(\"off\")\n",
    "plt.tight_layout(pad = 0)\n",
    " \n",
    "plt.show()"
   ]
  },
  {
   "cell_type": "code",
   "execution_count": null,
   "id": "fb04018b",
   "metadata": {},
   "outputs": [],
   "source": []
  },
  {
   "cell_type": "code",
   "execution_count": null,
   "id": "4bcd8b6d",
   "metadata": {},
   "outputs": [],
   "source": []
  }
 ],
 "metadata": {
  "kernelspec": {
   "display_name": "Python 3 (ipykernel)",
   "language": "python",
   "name": "python3"
  },
  "language_info": {
   "codemirror_mode": {
    "name": "ipython",
    "version": 3
   },
   "file_extension": ".py",
   "mimetype": "text/x-python",
   "name": "python",
   "nbconvert_exporter": "python",
   "pygments_lexer": "ipython3",
   "version": "3.9.7"
  }
 },
 "nbformat": 4,
 "nbformat_minor": 5
}
